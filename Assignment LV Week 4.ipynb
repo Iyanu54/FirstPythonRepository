{
 "cells": [
  {
   "cell_type": "code",
   "execution_count": 58,
   "metadata": {},
   "outputs": [],
   "source": [
    "'''Assignment\n",
    "1. Create a class that captures planets. Each planet has a name, \n",
    "a distance from the sun, and its gravity relative to Earth’s gravity.'''\n",
    "\n",
    "\n",
    "class Planet:\n",
    "    \n",
    "    #attributes\n",
    "    def __init__ (self, name, distance, gravity):\n",
    "        self.name = name\n",
    "        self.distance = distance\n",
    "        self.gravity = gravity\n",
    "    \n",
    "    #method\n",
    "    #Mars is only about 38% of the surface gravity on Earth\n",
    "    def planet_details(self):\n",
    "        print(f\"{self.name} is {self.distance} million km away from the sun and it's surface gravity is {self.gravity}% of the surface gravity of Earth\")  \n",
    "              "
   ]
  },
  {
   "cell_type": "code",
   "execution_count": 59,
   "metadata": {},
   "outputs": [],
   "source": [
    "planet1 = Planet(\"Mars\", 228, 38)\n",
    "planet2 = Planet(\"Mecury\", 50.54, 38)\n",
    "planet3 = Planet(\"Venus\", 107.91, 91)"
   ]
  },
  {
   "cell_type": "code",
   "execution_count": 60,
   "metadata": {},
   "outputs": [
    {
     "name": "stdout",
     "output_type": "stream",
     "text": [
      "Mars is 228 million km away from the sun and it's surface gravity is 38% of the surface gravity of Earth\n"
     ]
    }
   ],
   "source": [
    "planet1.planet_details()"
   ]
  },
  {
   "cell_type": "code",
   "execution_count": 61,
   "metadata": {},
   "outputs": [
    {
     "name": "stdout",
     "output_type": "stream",
     "text": [
      "Mecury is 50.54 million km away from the sun and it's surface gravity is 38% of the surface gravity of Earth\n"
     ]
    }
   ],
   "source": [
    "planet2.planet_details()"
   ]
  },
  {
   "cell_type": "code",
   "execution_count": 62,
   "metadata": {},
   "outputs": [
    {
     "name": "stdout",
     "output_type": "stream",
     "text": [
      "Venus is 107.91 million km away from the sun and it's surface gravity is 91% of the surface gravity of Earth\n"
     ]
    }
   ],
   "source": [
    "planet3.planet_details()"
   ]
  },
  {
   "cell_type": "code",
   "execution_count": 53,
   "metadata": {},
   "outputs": [
    {
     "name": "stdout",
     "output_type": "stream",
     "text": [
      "Enter your firstname: Ade\n",
      "Enter your last name: Tunde\n",
      "Enter your bank balance: 3000\n",
      "Enter your account type: Savings\n"
     ]
    }
   ],
   "source": [
    "'''2. Create classes that capture bank customers and bank accounts. A customer has a first and last name. \n",
    "An account has a customer and a balance. Make objects for two accounts held by the same customer.'''\n",
    "\n",
    "\n",
    "name = input(\"Enter your firstname: \")\n",
    "lastname = input(\"Enter your last name: \")\n",
    "balance = int(input(\"Enter your bank balance: \"))\n",
    "actype = input(\"Enter your account type: \")\n",
    "    \n",
    "class customer_info:\n",
    "       \n",
    "    #attributes\n",
    "    def __init__(self, name, lastname, balance, actype):\n",
    "    \n",
    "                       \n",
    "        self.name = name\n",
    "        self.lastname = lastname\n",
    "        self.balance = balance\n",
    "        self.actype = actype\n",
    "    \n",
    "    \n",
    "  \n",
    "    #method\n",
    "    def info(self):\n",
    "        print(\"Customer First Name: \", self.name)\n",
    "        print(\"Customer Last Name: \", self.lastname)\n",
    "        \n",
    "    \n",
    "    def bank_account(self):\n",
    "        print (\"Current Balance: \", self.balance)\n",
    "        print (\"Account Type: \", self.actype)\n",
    "    \n",
    "\n",
    "    \n",
    "    \n",
    "        \n",
    "    "
   ]
  },
  {
   "cell_type": "code",
   "execution_count": 54,
   "metadata": {},
   "outputs": [],
   "source": [
    "cus1 = customer_info(name, lastname, balance, actype)"
   ]
  },
  {
   "cell_type": "code",
   "execution_count": 55,
   "metadata": {},
   "outputs": [
    {
     "name": "stdout",
     "output_type": "stream",
     "text": [
      "Customer First Name:  Ade\n",
      "Customer Last Name:  Tunde\n"
     ]
    }
   ],
   "source": [
    "cus1.info()"
   ]
  },
  {
   "cell_type": "code",
   "execution_count": 56,
   "metadata": {},
   "outputs": [
    {
     "name": "stdout",
     "output_type": "stream",
     "text": [
      "Current Balance:  3000\n",
      "Account Type:  Savings\n"
     ]
    }
   ],
   "source": [
    "cus1.bank_account()"
   ]
  },
  {
   "cell_type": "code",
   "execution_count": null,
   "metadata": {},
   "outputs": [],
   "source": []
  },
  {
   "cell_type": "code",
   "execution_count": null,
   "metadata": {},
   "outputs": [],
   "source": []
  }
 ],
 "metadata": {
  "kernelspec": {
   "display_name": "Python 3",
   "language": "python",
   "name": "python3"
  },
  "language_info": {
   "codemirror_mode": {
    "name": "ipython",
    "version": 3
   },
   "file_extension": ".py",
   "mimetype": "text/x-python",
   "name": "python",
   "nbconvert_exporter": "python",
   "pygments_lexer": "ipython3",
   "version": "3.7.0"
  }
 },
 "nbformat": 4,
 "nbformat_minor": 2
}
