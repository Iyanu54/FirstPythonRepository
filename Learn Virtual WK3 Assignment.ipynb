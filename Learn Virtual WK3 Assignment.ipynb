{
 "cells": [
  {
   "cell_type": "code",
   "execution_count": 25,
   "metadata": {},
   "outputs": [
    {
     "name": "stdout",
     "output_type": "stream",
     "text": [
      "Enter your principal: 5000\n",
      "Enter your present rate: 10\n",
      "Enter the length 'in months': 6\n",
      "The interest is too much\n"
     ]
    }
   ],
   "source": [
    "# A Simple interest calculator\n",
    "principal = int(input(\"Enter your principal: \"))\n",
    "rate = int(input(\"Enter your present rate: \"))\n",
    "time_value = int(input(\"Enter the length 'in months': \"))\n",
    "simple_interest = (principal * rate * time_value) / 100\n",
    "\n",
    "round (simple_interest, 1)\n",
    "\n",
    "if simple_interest == 20:\n",
    "    print (\"The loan is favourable\")\n",
    "    \n",
    "elif simple_interest > 20:\n",
    "    print (\"The interest is too much\")\n",
    "\n",
    "elif simple_interest < 20:\n",
    "    print (\"It is too good to be true\")\n",
    "\n",
    "else:\n",
    "    print(\"I have no other advice for you\")\n",
    "    \n",
    "\n",
    "\n",
    "\n",
    "    \n"
   ]
  },
  {
   "cell_type": "code",
   "execution_count": 27,
   "metadata": {},
   "outputs": [
    {
     "name": "stdout",
     "output_type": "stream",
     "text": [
      "Enter the length of your rectangle: 15.90\n",
      "Enter the breadth of your rectangle: 7.5\n",
      "119.25\n"
     ]
    }
   ],
   "source": [
    "#Calculate the area of a rectangle Shape\n",
    "\n",
    "length = float(input(\"Enter the length of your rectangle: \"))\n",
    "breadth = float(input(\"Enter the breadth of your rectangle: \"))\n",
    "\n",
    "Area = (length * breadth)\n",
    "\n",
    "round (Area, 1)\n",
    "\n",
    "print (Area)\n"
   ]
  },
  {
   "cell_type": "code",
   "execution_count": 14,
   "metadata": {},
   "outputs": [
    {
     "name": "stdout",
     "output_type": "stream",
     "text": [
      "Enter the length of side a: 5\n",
      "Enter the length of side b: 4\n",
      "Enter the length of side c: 5\n",
      "Yes, it is still an iscoleses triangle\n"
     ]
    }
   ],
   "source": [
    "#A program to determine the type of a triangle by its sides\n",
    "\n",
    "side_a = int(input(\"Enter the length of side a: \"))\n",
    "side_b = int(input(\"Enter the length of side b: \"))\n",
    "side_c = int(input(\"Enter the length of side c: \"))\n",
    "\n",
    "if side_a == side_b and side_a != side_c and side_b != side_c:\n",
    "    print (\"It is an isoceles triangle\")\n",
    "    \n",
    "elif side_b == side_c and side_b != side_a and side_c != side_a:\n",
    "    print (\"It is still an isoceles triangle\")\n",
    "\n",
    "elif side_a == side_c and side_a != side_b and side_c != side_b:\n",
    "    print (\"Yes, it is still an iscoleses triangle\")\n",
    "    \n",
    "elif side_a != side_b and side_a != side_c and side_b != side_c:\n",
    "    print (\"It is a scalene triangle\")\n",
    "    \n",
    "elif side_a == side_b and side_a == side_c and side_b == side_c:\n",
    "    print (\"It is an equilateral triangle\")\n",
    "\n",
    "else:\n",
    "    print (\"I don't know for you o\")"
   ]
  },
  {
   "cell_type": "code",
   "execution_count": 15,
   "metadata": {},
   "outputs": [
    {
     "name": "stdout",
     "output_type": "stream",
     "text": [
      "Enter a day: Monday\n",
      "Enter a time: 7am\n",
      "Wake up and prepare for work\n"
     ]
    }
   ],
   "source": [
    "#A program to schedule your daily activities\n",
    "weekdays = [\"Monday\", \"Tuesday\", \"Wednesday\", \"Thursday\", \"Friday\"]\n",
    "weekends = [\"Saturday\", \"Sunday\"]\n",
    "days = input(\"Enter a day: \")\n",
    "time = (input(\"Enter a time: \"))\n",
    "\n",
    "if days in weekdays and time == \"7am\":\n",
    "    print (\"Wake up and prepare for work\")\n",
    "elif days in weekends and time == \"7am\":\n",
    "    print (\"Wake up and prepare for practice\")\n",
    "elif days in weekdays and time == \"7pm\":\n",
    "    print (\"Man, you have had enough, go home!\")\n"
   ]
  },
  {
   "cell_type": "markdown",
   "metadata": {},
   "source": [
    "Take two list and write a program that returns a list that contains only the elements that are common between the lists (without duplicates). Make sure your program works on two lists of different sizes."
   ]
  },
  {
   "cell_type": "code",
   "execution_count": 16,
   "metadata": {},
   "outputs": [
    {
     "name": "stdout",
     "output_type": "stream",
     "text": [
      "[1, 2, 3, 5, 8, 13]\n"
     ]
    }
   ],
   "source": [
    "#for loop\n",
    "\n",
    "a = [1, 1, 2, 3, 5, 8, 13, 21, 34, 55, 89]\n",
    "b = [1, 2, 3, 4, 5, 6, 7, 8, 9, 10, 11, 12, 13]\n",
    "\n",
    "c = []\n",
    "for k in a and b:\n",
    "    if k in a and k in b:\n",
    "        c.append(k)\n",
    "print (c)\n",
    "\n"
   ]
  },
  {
   "cell_type": "markdown",
   "metadata": {},
   "source": [
    "Create a program that asks the user for a number and then prints out a list of all the divisors of that number. (If you don’t know what a divisor is, it is a number that divides evenly into another number. "
   ]
  },
  {
   "cell_type": "code",
   "execution_count": null,
   "metadata": {},
   "outputs": [],
   "source": [
    "#for loop\n",
    "number = int(input(\"Please enter a number: \"))\n",
    "\n",
    "num_range = range(1,number)\n",
    "\n",
    "divisors =[]\n",
    "\n",
    "for num in num_range:\n",
    "    if number % num == 0:\n",
    "        divisors.append(num)\n",
    "print (divisors)"
   ]
  },
  {
   "cell_type": "code",
   "execution_count": null,
   "metadata": {},
   "outputs": [],
   "source": [
    "#while loop\n",
    "Weekdays = [\"Monday\", \"Tuesday\", \"Wednesday\", \"Thursday\", \"Friday\"]\n",
    "\n",
    "day = input(\"Enter a weekday: \")\n",
    "\n",
    "while day in Weekdays:\n",
    "    print (\"Go to work!\")\n",
    "    break"
   ]
  },
  {
   "cell_type": "code",
   "execution_count": null,
   "metadata": {},
   "outputs": [],
   "source": []
  },
  {
   "cell_type": "code",
   "execution_count": 31,
   "metadata": {
    "scrolled": true
   },
   "outputs": [
    {
     "name": "stdout",
     "output_type": "stream",
     "text": [
      "Please enter your name: Emmanuel\n",
      "Emmanuel you are welcome to Zigis Peppersoup Restaurant!\n",
      "We are the best restaurant in the city\n",
      "Please have a look below, order a meal and have a blast\n",
      "Please would you like to have one of our peppersoups?, here is our menu list \n",
      "\n",
      "(a) goat peppersoup \n",
      "(b) catfish peppersoup \n",
      "(c) cowtail peppersoup \n",
      "(d) none of the above \n",
      "d\n",
      "please choose your preference, \n",
      "(a) water \n",
      "(b) fruit juice \n",
      "(c) soda \n",
      "(d) none \n",
      "d\n",
      "Thanks for your response, we will love to receive your order soon\n"
     ]
    }
   ],
   "source": [
    "#Restaurant Menu\n",
    "name = str(input(\"Please enter your name: \"))\n",
    "print (name, \"you are welcome to Zigis Peppersoup Restaurant!\")\n",
    "print (\"We are the best restaurant in the city\")\n",
    "print (\"Please have a look below, order a meal and have a blast\")\n",
    "Menu_1 = input('''Please would you like to have one of our peppersoups?, here is our menu list \n",
    "\\n(a) goat peppersoup \\n(b) catfish peppersoup \\n(c) cowtail peppersoup \\n(d) none of the above \\n''')\n",
    "drink = input('''please choose your preference, \\n(a) water \\n(b) fruit juice \\n(c) soda \\n(d) none \\n''')\n",
    "\n",
    "if (Menu_1.lower() == 'a') and (drink.lower() == 'a'):\n",
    "    print (\"Here is your selected menu: \" + \"peppersoup and water\")\n",
    "    print (\"Thanks for making your order, it will be delivered shortly\")\n",
    "    \n",
    "elif (Menu_1.lower() == 'b') and (drink.lower() == 'b'):\n",
    "    print (\"Here is your selected menu: \" + \"catfish peppersoup and fruit juice\")\n",
    "    print (\"Thanks for making your order, it will be delivered shortly\")\n",
    "\n",
    "elif (Menu_1.lower() == 'c') and (drink.lower() == 'c'):\n",
    "    print (\"Here is your selected menu: \" + \"cowtail peppersoup and soda\")\n",
    "    print (\"Thanks for making your order, it will be delivered shortly\")\n",
    "\n",
    "elif (Menu_1.lower() == 'd') and (drink.lower() == 'd'):\n",
    "     print (\"Thanks for your response, we will love to receive your order soon\")\n",
    "\n",
    "else:\n",
    "    print (\"I know I didn't complete the program, please let's stop here. Cheers!\")\n",
    "\n",
    "\n",
    "\n",
    "\n",
    "    "
   ]
  },
  {
   "cell_type": "code",
   "execution_count": 13,
   "metadata": {},
   "outputs": [
    {
     "name": "stdout",
     "output_type": "stream",
     "text": [
      "Please insert your card\n",
      "Enter your pin number: 1234\n",
      "Emmanuel, welcome to Access Bank\n",
      "What would you like to do?\n",
      "\n",
      "(a) check balance \n",
      "(b) Withdraw \n",
      "(c) Transfer  \n",
      "(d) Recharge \n",
      "b\n",
      "Select account type  \n",
      "(a) Savings \n",
      "(b) Current \n",
      "a\n",
      "Great!\n",
      "Select amount \n",
      "(a) 1000 \n",
      "(b) 5000 \n",
      "(c) 10000 \n",
      "(d) 20000 \n",
      "(e) others \n",
      "e\n",
      "\n",
      "Enter other amount: 29500\n",
      "Transaction in progress.....\n",
      "Take your cash\n",
      "Thank you for banking with us!\n"
     ]
    }
   ],
   "source": [
    "#Emmanuel's ATM experience\n",
    "print (\"Please insert your card\")\n",
    "pin = int(input(\"Enter your pin number: \"))\n",
    "\n",
    "while pin == 1234:\n",
    "    print(\"Emmanuel, welcome to Access Bank\")\n",
    "    break\n",
    "\n",
    "bank_balance = 30000\n",
    "\n",
    "transaction = input('''What would you like to do?\n",
    "\\n(a) check balance \\n(b) Withdraw \\n(c) Transfer  \\n(d) Recharge \\n''')\n",
    "account_type = input('Select account type  \\n(a) Savings \\n(b) Current \\n')\n",
    "\n",
    "if (transaction.lower() == 'a') and (account_type.lower() == 'a') or (transaction.lower() == 'a') and (account_type.lower() == 'b'):\n",
    "    print (\"Your bank balance is: \", bank_balance)\n",
    "\n",
    "elif (transaction.lower() == 'b'):\n",
    "    print (\"Great!\")\n",
    "\n",
    "    withdraw = input(\"Select amount \\n(a) 1000 \\n(b) 5000 \\n(c) 10000 \\n(d) 20000 \\n(e) others \\n\")\n",
    "\n",
    "    if withdraw == 'a' or withdraw == 'b' or withdraw == 'c' or withdraw == 'd':\n",
    "        print (\"Transaction in progress.....\")\n",
    "        print (\"Take your cash\")\n",
    "        print (\"Thank you for banking with us!\")\n",
    "    \n",
    "    else:\n",
    "        print ()\n",
    "        \n",
    "        other_amount = int(input(\"Enter other amount: \"))\n",
    "        if other_amount <= bank_balance:\n",
    "            print (\"Transaction in progress.....\")\n",
    "            print (\"Take your cash\")\n",
    "            print (\"Thank you for banking with us!\")\n",
    "        \n",
    "        elif other_amount > bank_balance:\n",
    "            print (\"Insufficient balance\")\n",
    "        \n",
    "        else:\n",
    "            print (\"Unknown error, please try again\")\n",
    "\n",
    "elif (transaction.lower() == 'c'):\n",
    "    print (\"Great!\")\n",
    "    \n",
    "    transfer = input(\"Select Bank, \\n(a) Access Bank \\n(b) Eco Bank \\n(c) GT Bank \\n(d) Fidelity Bank \\n(e) Zenith Bank \\n\") \n",
    "    account_number = str(input(\"Enter account number: \"))\n",
    "    amount = int(input(\"Enter amount: \"))\n",
    "    \n",
    "    if len(account_number) < 10 or len(account_number) > 10 :\n",
    "        print (\"Error! Enter a correct account number\")\n",
    "        \n",
    "    elif len(account_number) == 10 and amount <= bank_balance:\n",
    "        print (\"Transaction in progress.....\")\n",
    "        print (\"Transaction is complete\")\n",
    "    \n",
    "    elif len(account_number) == 10 and amount > bank_balance:\n",
    "        print (\"Insufficient balance\")\n",
    "    \n",
    "    else:\n",
    "        print(\"Unknown error, try again\")\n",
    "\n",
    "elif (transaction.lower() == 'd'):\n",
    "    print (\"Great!\")\n",
    "    \n",
    "    recharge = input(\"Select network \\n(a) MTN \\n(b) Airtel \\n(c) Glo \\n(d) Etisalat \\n\")\n",
    "    phone_number = str(input(\"Enter phone number: \"))\n",
    "    recharge_amount = int(input(\"Enter amount: \"))\n",
    "    \n",
    "    if len(phone_number) < 11 or len(phone_number) > 11 :\n",
    "        print (\"Error! Enter a correct phone number\")\n",
    "        \n",
    "    elif len(phone_number) == 11 and recharge_amount <= bank_balance:\n",
    "        print (\"Transaction in progress.....\")\n",
    "        print (\"Transaction is complete\")\n",
    "    \n",
    "    elif len(phone_number) == 11 and recharge_amount > bank_balance:\n",
    "        print (\"Insufficient balance\")\n",
    "    \n",
    "    else:\n",
    "        print(\"Unknown error, try again\")\n",
    "        \n"
   ]
  },
  {
   "cell_type": "code",
   "execution_count": 23,
   "metadata": {},
   "outputs": [
    {
     "name": "stdout",
     "output_type": "stream",
     "text": [
      "{'Abia': 'Umuahia', 'Anambra': 'Akwa', 'Lagos': 'Ikeja', 'Ogun': 'Abeokuta', 'Kaduna': 'Kaduna', 'Kano': 'Kano'}\n"
     ]
    }
   ],
   "source": [
    "#create a simple dictionary for few states in Nigeria and their capital\n",
    "\n",
    "States_in_Nigeria = {'Abia': 'Umuahia', 'Anambra': 'Akwa', 'Lagos': 'Ikeja', 'Ogun': 'Abeokuta', 'Kaduna': 'Kaduna', 'Kano': 'Kano'}\n",
    "print (States_in_Nigeria)"
   ]
  },
  {
   "cell_type": "code",
   "execution_count": 18,
   "metadata": {},
   "outputs": [
    {
     "name": "stdout",
     "output_type": "stream",
     "text": [
      "Enter your weight in kg: 75\n",
      "Enter your height in inches: 5.9\n",
      "2.2\n"
     ]
    }
   ],
   "source": [
    "# A simple BMI calculator with a verdict\n",
    "weight = int(input(\"Enter your weight in kg: \"))\n",
    "height = float(input(\"Enter your height in inches: \"))\n",
    "\n",
    "bmi = weight/(height * height)\n",
    "\n",
    "# round up your bmi\n",
    "\n",
    "bmi = round(bmi, 1)\n",
    "\n",
    "print(bmi)\n",
    "\n"
   ]
  },
  {
   "cell_type": "code",
   "execution_count": null,
   "metadata": {},
   "outputs": [],
   "source": []
  }
 ],
 "metadata": {
  "kernelspec": {
   "display_name": "Python 3",
   "language": "python",
   "name": "python3"
  },
  "language_info": {
   "codemirror_mode": {
    "name": "ipython",
    "version": 3
   },
   "file_extension": ".py",
   "mimetype": "text/x-python",
   "name": "python",
   "nbconvert_exporter": "python",
   "pygments_lexer": "ipython3",
   "version": "3.7.0"
  }
 },
 "nbformat": 4,
 "nbformat_minor": 2
}
